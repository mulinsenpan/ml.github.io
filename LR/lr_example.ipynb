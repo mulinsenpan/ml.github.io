{
 "cells": [
  {
   "cell_type": "markdown",
   "metadata": {},
   "source": [
    "## 逻辑回归示例\n",
    "\n",
    "1. 逻辑回归\n",
    "2. 向量化计算\n",
    "3. 正则化逻辑回归\n"
   ]
  },
  {
   "cell_type": "code",
   "execution_count": 2,
   "metadata": {
    "collapsed": true
   },
   "outputs": [],
   "source": [
    "# %load ../../standard_import.txt\n",
    "import pandas as pd\n",
    "import numpy as np\n",
    "import matplotlib as mpl\n",
    "import matplotlib.pyplot as plt\n",
    "\n",
    "from scipy.optimize import minimize\n",
    "from sklearn.preprocessing import PolynomialFeatures\n",
    "\n",
    "pd.set_option('display.notebook_repr_html', False)\n",
    "pd.set_option('display.max_columns', None)\n",
    "pd.set_option('display.max_rows', 150)\n",
    "pd.set_option('display.max_seq_items', None)\n",
    "\n",
    "#%config InlineBackend.figure_formats = {'pdf',}\n",
    "%matplotlib inline\n",
    "\n",
    "import seaborn as sns\n",
    "sns.set_context('notebook')\n",
    "sns.set_style('white')\n",
    "\n",
    "\n"
   ]
  },
  {
   "cell_type": "markdown",
   "metadata": {},
   "source": [
    "加载数据\n",
    "\n",
    "输入：文件名，分隔符\n",
    "\n",
    "输出：np.array类型的数据"
   ]
  },
  {
   "cell_type": "code",
   "execution_count": 1,
   "metadata": {
    "collapsed": true
   },
   "outputs": [],
   "source": [
    "def loaddata(file, delimeter):\n",
    "    data = np.loadtxt(file, delimiter=delimeter)\n",
    "    print('Dimensions: ',data.shape)\n",
    "    print(data[1:6,:])\n",
    "    return(data)"
   ]
  },
  {
   "cell_type": "code",
   "execution_count": 5,
   "metadata": {
    "collapsed": false
   },
   "outputs": [],
   "source": [
    "def plotData(data,label_x,label_y,label_pos,label_neg,axes=None):\n",
    "    neg = data[:,2] == 0\n",
    "    pos = data[:,2] == 1\n",
    "    \n",
    "    if axes == None:\n",
    "        axes = plt.gca()\n",
    "    \n",
    "    axes.scatter(data[pos][:,0],data[pos][:,1],marker='+',c='k',s=60,label=label_x)\n",
    "    axes.scatter(data[neg][:,0],data[neg][:,1],c='y',s=60,label=label_y)\n",
    "    axes.set_xlabel(label_x)\n",
    "    axes.set_ylabel(label_y)\n",
    "    axes.legend(frameon=True,fancybox=True)\n",
    "    "
   ]
  },
  {
   "cell_type": "markdown",
   "metadata": {},
   "source": [
    "加载原始数据\n",
    "\n",
    "X: 100*2\n",
    "\n",
    "Y: 100*1"
   ]
  },
  {
   "cell_type": "code",
   "execution_count": 10,
   "metadata": {
    "collapsed": false
   },
   "outputs": [
    {
     "name": "stdout",
     "output_type": "stream",
     "text": [
      "('Dimensions: ', (100L, 3L))\n",
      "[[ 30.28671077  43.89499752   0.        ]\n",
      " [ 35.84740877  72.90219803   0.        ]\n",
      " [ 60.18259939  86.3085521    1.        ]\n",
      " [ 79.03273605  75.34437644   1.        ]\n",
      " [ 45.08327748  56.31637178   0.        ]]\n"
     ]
    }
   ],
   "source": [
    "data = loaddata('./data/data1.txt',',')"
   ]
  },
  {
   "cell_type": "markdown",
   "metadata": {},
   "source": [
    "train_x 加上一列：1"
   ]
  },
  {
   "cell_type": "code",
   "execution_count": 16,
   "metadata": {
    "collapsed": false
   },
   "outputs": [
    {
     "name": "stdout",
     "output_type": "stream",
     "text": [
      "(100L, 3L)\n",
      "(100L, 1L)\n"
     ]
    },
    {
     "data": {
      "image/png": "[encoded data removed]",
      "text/plain": [
       "<matplotlib.figure.Figure at 0xa563eb8>"
      ]
     },
     "metadata": {},
     "output_type": "display_data"
    }
   ],
   "source": [
    "X = np.c_[np.ones((data.shape[0],1)),data[:,0:2]]\n",
    "Y = np.c_[data[:,2]]\n",
    "print X.shape\n",
    "print Y.shape\n",
    "\n",
    "plotData(data, 'Exam 1 score', 'Exam 2 score', 'Pass', 'Fail')\n",
    "\n"
   ]
  },
  {
   "cell_type": "markdown",
   "metadata": {},
   "source": [
    "#### 逻辑回归假设\n",
    "$$ h_{\\theta}(x)=g({\\theta^T}x)$$\n",
    "$$ g(z)=\\frac{1}{1+e^{-z}} $$\n",
    "\n",
    "sigmoid函数把数值压缩到[0,1]，因此在二分类问题中\n",
    "\\\\(h_{\\theta}(x)\\\\)\n",
    "可以表示预测为正例的概率。同时\n",
    "\\\\(\\theta*X\\\\)\n",
    "确定了决策边界，若其为线性函数，则为线性判定边界，为非线性函数，则生成非线性判定边界。\n"
   ]
  },
  {
   "cell_type": "code",
   "execution_count": 17,
   "metadata": {
    "collapsed": true
   },
   "outputs": [],
   "source": [
    "def sigmoid(z):\n",
    "    return(1 / (1 + np.exp(-z)))"
   ]
  },
  {
   "cell_type": "markdown",
   "metadata": {},
   "source": [
    "### 损失函数\n",
    "假设损失函数为均方误差函数，即\n",
    "$$ J(\\theta) = \\frac{1}{m}\\sum_{i=1}^{m}(h_{\\theta}(x^{(i)})-y^{(i)})^2$$\n",
    "改函数为非凸函数，求解时不方便。因此设计如下(最大似然估计)代价函数：\n",
    "\n",
    "\\begin{eqnarray}Cost(h_{\\theta}(x),y)=\n",
    "\\begin{cases}\n",
    "-log{(h_\\theta(x))}, &y=1\n",
    "\\cr -log{(1-h_\\theta(x))}, &y=0 \\end{cases}\n",
    "\\end{eqnarray}\n",
    "\n",
    "该函数把[0,1]之间的值放大到[1,∞]，当\n",
    "\\\\(h_{\\theta}(x)\\\\)\n",
    "\n",
    "比较小时，\n",
    "\\\\(-log{(h_\\theta(x))}\\\\)较大，反之亦然。\n",
    "当y=0是，相反。\n",
    "\n",
    "分段函数组合到一起，构成逻辑回归的损失函数：\n",
    "\n",
    "$$ J(\\theta) = -\\frac{1}{m}\\sum_{i=1}^{m}\\big[-y^{(i)}\\, log\\,( h_\\theta\\,(x^{(i)}))+(1-y^{(i)})\\,log\\,(1-h_\\theta(x^{(i)}))\\big]$$\n",
    "\n",
    "向量化的损失函数（矩阵形式）：\n",
    "\n",
    "$$\n",
    "J(\\theta) = -\\frac{1}{m}\\big((\\,log\\,(g(X\\theta)^Ty+(\\,log\\,(1-g(X\\theta))^T(1-y)\\big)\n",
    "$$\n",
    "\n",
    "其中X为特征矩阵，表示有M个观测样本，每个样本N个属性，每一行代表一个样本，\n",
    "\\\\(\\theta\\\\) 为 N维列向量，y为M维列向量，\\\\(g(X\\theta)\\\\)为M维列向量\n"
   ]
  },
  {
   "cell_type": "code",
   "execution_count": 176,
   "metadata": {
    "collapsed": false
   },
   "outputs": [],
   "source": [
    "#定义损失函数\n",
    "def costFunction(theta, X, y):\n",
    "    m = y.size\n",
    "    h = sigmoid(X.dot(theta))\n",
    "    left = np.log(h).T.dot(y)\n",
    "    right = np.log(1-h).T.dot(1-y)\n",
    "    J = -1.0*(1.0/m)*(np.log(h).T.dot(y)+np.log(1-h).T.dot(1-y)) \n",
    "    if np.isnan(J[0]):\n",
    "        return(10000)\n",
    "    return J[0]"
   ]
  },
  {
   "cell_type": "markdown",
   "metadata": {},
   "source": [
    "#### 求偏导(梯度)\n",
    "\n",
    "#### $$ \\frac{\\delta J(\\theta)}{\\delta\\theta_{j}} = \\frac{1}{m}\\sum_{i=1}^{m} ( h_\\theta (x^{(i)})-y^{(i)})x^{(i)}_{j} $$ \n",
    "#### 向量化的偏导(梯度)\n",
    "#### $$ \\frac{\\delta J(\\theta)}{\\delta\\theta_{j}} = \\frac{1}{m} X^T(g(X\\theta)-y)$$"
   ]
  },
  {
   "cell_type": "markdown",
   "metadata": {},
   "source": [
    "梯度下降算法\n",
    "\n",
    "theta 怎么改？可变类型"
   ]
  },
  {
   "cell_type": "code",
   "execution_count": 166,
   "metadata": {
    "collapsed": false
   },
   "outputs": [],
   "source": [
    "def gradientDesc(theta,X,Y,alpha=0.0001,iterations=200000):\n",
    "    m = Y.shape[0]\n",
    "    Js = []\n",
    "    Js.append(costFunction(theta,X,Y))\n",
    "    thetas = []\n",
    "    thetas.append(theta)\n",
    "    for i in range(iterations):\n",
    "        h = sigmoid(X.dot(theta))\n",
    "        grad = (1.0/m) * (X.T.dot(h-Y))\n",
    "        theta = theta - alpha * grad\n",
    "        thetas.append(theta)        \n",
    "        Js.append(costFunction(theta,X,Y))\n",
    "    return thetas,Js\n"
   ]
  },
  {
   "cell_type": "code",
   "execution_count": 179,
   "metadata": {
    "collapsed": true
   },
   "outputs": [],
   "source": [
    "#求解梯度\n",
    "def gradient(theta, X, y):\n",
    "    m = y.size\n",
    "    h = sigmoid(X.dot(theta.reshape(-1,1)))\n",
    "    \n",
    "    grad =(1.0/m)*X.T.dot(h-y)\n",
    "\n",
    "    return(grad.flatten())"
   ]
  },
  {
   "cell_type": "code",
   "execution_count": 177,
   "metadata": {
    "collapsed": false,
    "scrolled": false
   },
   "outputs": [
    {
     "name": "stdout",
     "output_type": "stream",
     "text": [
      "Cost:  [ 0.54729609]\n",
      "theta:  [[-1.28300143]\n",
      " [ 0.01942352]\n",
      " [ 0.01046413]]\n"
     ]
    }
   ],
   "source": [
    "# theta N*1 维列向量\n",
    "init_theta = np.zeros((X.shape[1],1))\n",
    "cost = costFunction(init_theta,X,Y)\n",
    "thetas,Js  = gradientDesc(init_theta,X,Y)\n",
    "print 'Cost: ', Js[-1]\n",
    "print 'theta: ', thetas[-1]\n",
    "\n",
    "\n"
   ]
  },
  {
   "cell_type": "markdown",
   "metadata": {},
   "source": [
    "使用scipy.optimize中的minimize函数进行优化\n"
   ]
  },
  {
   "cell_type": "code",
   "execution_count": 184,
   "metadata": {
    "collapsed": false
   },
   "outputs": [
    {
     "name": "stdout",
     "output_type": "stream",
     "text": [
      "[-25.16132482   0.20623166   0.20147152]\n"
     ]
    }
   ],
   "source": [
    "res = minimize(costFunction, init_theta, args=(X,Y), jac=gradient, options={'maxiter':4000})\n",
    "print res['x']"
   ]
  },
  {
   "cell_type": "markdown",
   "metadata": {},
   "source": [
    "预测\n",
    "第一次成绩45，第二次成绩85 的同学通过的概率多高"
   ]
  },
  {
   "cell_type": "code",
   "execution_count": 188,
   "metadata": {
    "collapsed": false
   },
   "outputs": [
    {
     "name": "stdout",
     "output_type": "stream",
     "text": [
      "[ 0.6178679]\n",
      "0.776290607122\n"
     ]
    }
   ],
   "source": [
    "def predict(theta,X,threshold=0.5):\n",
    "    p = sigmoid(X.dot(theta))\n",
    "    return p\n",
    "\n",
    "print predict(thetas[-1],np.array([1,45,85]))\n",
    "print predict(res['x'],np.array([1,45,85]))"
   ]
  },
  {
   "cell_type": "markdown",
   "metadata": {},
   "source": [
    "画出决策边界"
   ]
  },
  {
   "cell_type": "code",
   "execution_count": 189,
   "metadata": {
    "collapsed": false
   },
   "outputs": [
    {
     "data": {
      "image/png": "[encoded data removed]",
      "text/plain": [
       "<matplotlib.figure.Figure at 0xb2e9358>"
      ]
     },
     "metadata": {},
     "output_type": "display_data"
    }
   ],
   "source": [
    "plt.scatter(45, 85, s=60, c='r', marker='v', label='(45, 85)')\n",
    "plotData(data, 'Exam 1 score', 'Exam 2 score', 'Admitted', 'Not admitted')\n",
    "x1_min, x1_max = X[:,1].min(), X[:,1].max(),\n",
    "x2_min, x2_max = X[:,2].min(), X[:,2].max(),\n",
    "xx1, xx2 = np.meshgrid(np.linspace(x1_min, x1_max), np.linspace(x2_min, x2_max))\n",
    "h = sigmoid(np.c_[np.ones((xx1.ravel().shape[0],1)), xx1.ravel(), xx2.ravel()].dot(res.x))\n",
    "h = h.reshape(xx1.shape)\n",
    "plt.contour(xx1, xx2, h, [0.5], linewidths=1, colors='b');"
   ]
  },
  {
   "cell_type": "markdown",
   "metadata": {},
   "source": [
    "# 正则化的LR"
   ]
  },
  {
   "cell_type": "code",
   "execution_count": 357,
   "metadata": {
    "collapsed": false
   },
   "outputs": [
    {
     "name": "stdout",
     "output_type": "stream",
     "text": [
      "('Dimensions: ', (118L, 3L))\n",
      "[[-0.092742  0.68494   1.      ]\n",
      " [-0.21371   0.69225   1.      ]\n",
      " [-0.375     0.50219   1.      ]\n",
      " [-0.51325   0.46564   1.      ]\n",
      " [-0.52477   0.2098    1.      ]]\n"
     ]
    }
   ],
   "source": [
    "data2 = loaddata(\"./data/data2.txt\",',')"
   ]
  },
  {
   "cell_type": "code",
   "execution_count": 355,
   "metadata": {
    "collapsed": true
   },
   "outputs": [],
   "source": [
    "X = np.c_[data[:,0:2]]\n",
    "Y = np.c_[data[:,2]]"
   ]
  },
  {
   "cell_type": "code",
   "execution_count": 356,
   "metadata": {
    "collapsed": false
   },
   "outputs": [
    {
     "data": {
      "image/png": "[encoded data removed]",
      "text/plain": [
       "<matplotlib.figure.Figure at 0xa904898>"
      ]
     },
     "metadata": {},
     "output_type": "display_data"
    }
   ],
   "source": [
    "plotData(data2,'Microchip Test 1', 'Microchip Test 2', 'y = 1', 'y = 0')\n"
   ]
  },
  {
   "cell_type": "markdown",
   "metadata": {},
   "source": [
    "多项式特征\n",
    "\n",
    "from sklearn.preprocessing import PolynomialFeatures\n",
    "\n",
    "PolynomialFeatures(degree=2, interaction_only=False, include_bias=True)\n"
   ]
  },
  {
   "cell_type": "code",
   "execution_count": 354,
   "metadata": {
    "collapsed": false
   },
   "outputs": [
    {
     "name": "stdout",
     "output_type": "stream",
     "text": [
      "28\n"
     ]
    }
   ],
   "source": [
    "poly = PolynomialFeatures(degree=6,interaction_only=False)\n",
    "XX = poly.fit_transform(X)\n",
    "print poly.n_output_features_\n"
   ]
  },
  {
   "cell_type": "markdown",
   "metadata": {},
   "source": [
    "正则化后的损失函数\n",
    "\n",
    "$$J(\\theta) = \\frac{1}{m}\\sum_{i=1}^m\\big[-y^{(i)}\\, log\\,( h_\\theta\\,(x^{(i)}))-(1-y^{(i)})\\,log\\,(1-h_\\theta(x^{(i)}))\\big]+\\frac{\\lambda}{2m}\\sum_{j=1}^n\\theta_{j}^2$$\n",
    "\n",
    "向量化损失函数\n",
    "\n",
    "$$J(\\theta) = \\frac{1}{m}\\big((\\,log\\,(g(X\\theta))^Ty+(\\,log\\,(1-g(X\\theta))^T(1-y)\\big) + \\frac{\\lambda}{2m}\\sum_{j=1}^{n}\\theta_{j}^{2}\n",
    "$$"
   ]
  },
  {
   "cell_type": "code",
   "execution_count": 362,
   "metadata": {
    "collapsed": false
   },
   "outputs": [],
   "source": [
    "def costFunctionReg(theta,reg,XX,Y):\n",
    "    m = Y.size\n",
    "    h = sigmoid(XX.dot(theta))\n",
    "    \n",
    "    J = -1.0*(1.0/m)*(np.log(h).T.dot(Y)+np.log(1-h).T.dot(1-Y)) + (reg/(2.0*m))*np.sum(np.square(theta[1:]))\n",
    "    \n",
    "    if np.isnan(J[0]):\n",
    "        return(np.inf)\n",
    "    return(J[0])"
   ]
  },
  {
   "cell_type": "markdown",
   "metadata": {},
   "source": [
    "### 梯度\n",
    "\n",
    "#### $$ \\frac{\\delta J(\\theta)}{\\delta\\theta_{j}} = \\frac{1}{m}\\sum_{i=1}^{m} ( h_\\theta (x^{(i)})-y^{(i)})x^{(i)}_{j} + \\frac{\\lambda}{m}\\theta_{j}$$ \n",
    "#### 向量化的偏导(梯度)\n",
    "#### $$ \\frac{\\delta J(\\theta)}{\\delta\\theta} = \\frac{1}{m} X^T(g(X\\theta)-y) + \\frac{\\lambda}{m}\\theta$$\n",
    "##### $$\\text{注意，我们另外自己加的参数 } \\theta_{0} \\text{ 不需要被正则化}$$"
   ]
  },
  {
   "cell_type": "code",
   "execution_count": 337,
   "metadata": {
    "collapsed": false
   },
   "outputs": [],
   "source": [
    "def gradientDescReg(theta,reg,XX,Y,alpha=0.0001,iterations=20000):\n",
    "    m = Y.shape[0]\n",
    "    Js = []\n",
    "    Js.append(costFunctionReg(theta,reg,XX,Y))\n",
    "    thetas = []\n",
    "    thetas.append(theta)\n",
    "    for i in range(iterations):\n",
    "        h = sigmoid(XX.dot(theta))\n",
    "        grad = (1.0/m) * (XX.T.dot(h-Y)) + (reg/m) * np.r_[[[0]],theta[1:].reshape(-1,1)]\n",
    "        theta = theta - alpha * grad\n",
    "        thetas.append(theta)  \n",
    "        Js.append(costFunctionReg(theta,reg,XX,Y))\n",
    "    return thetas,Js"
   ]
  },
  {
   "cell_type": "code",
   "execution_count": 350,
   "metadata": {
    "collapsed": true
   },
   "outputs": [],
   "source": [
    "def gradientReg(theta, reg, *args):\n",
    "    m = Y.size\n",
    "    h = sigmoid(XX.dot(theta.reshape(-1,1)))\n",
    "      \n",
    "    grad = (1.0/m)*XX.T.dot(h-Y) + (reg/m)*np.r_[[[0]],theta[1:].reshape(-1,1)]\n",
    "        \n",
    "    return(grad.flatten())"
   ]
  },
  {
   "cell_type": "code",
   "execution_count": 363,
   "metadata": {
    "collapsed": false,
    "scrolled": true
   },
   "outputs": [
    {
     "name": "stdout",
     "output_type": "stream",
     "text": [
      "Cost:  [ 0.69314718]\n"
     ]
    }
   ],
   "source": [
    "# theta N*1 维列向量\n",
    "init_theta = np.zeros((XX.shape[1],1))\n",
    "cost = costFunctionReg(init_theta,1,XX,Y)\n",
    "# thetas,Js = gradientDescReg(init_theta,100,XX,Y,alpha=0.01)\n",
    "# grad = gradientReg(init_theta,100,XX,Y)\n",
    "# print 'Cost: ', Js[-1]\n",
    "# print 'theta: ', thetas[-1]\n",
    "# print \"grad\",grad\n",
    "print 'Cost: ', cost"
   ]
  },
  {
   "cell_type": "code",
   "execution_count": 364,
   "metadata": {
    "collapsed": false
   },
   "outputs": [
    {
     "data": {
      "image/png": "[encoded data removed]",
      "text/plain": [
       "<matplotlib.figure.Figure at 0xaf6cf60>"
      ]
     },
     "metadata": {},
     "output_type": "display_data"
    }
   ],
   "source": [
    "fig, axes = plt.subplots(1,3, sharey = True, figsize=(17,5))\n",
    "\n",
    "# 决策边界，咱们分别来看看正则化系数lambda太大太小分别会出现什么情况\n",
    "# Lambda = 0 : 就是没有正则化，这样的话，就过拟合咯\n",
    "# Lambda = 1 : 这才是正确的打开方式\n",
    "# Lambda = 100 : 卧槽，正则化项太激进，导致基本就没拟合出决策边界\n",
    "\n",
    "for i, C in enumerate([0.0, 1.0, 100.0]):\n",
    "    # 最优化 costFunctionReg\n",
    "    res2 = minimize(costFunctionReg, init_theta, args=(C, XX, Y), jac=gradientReg, options={'maxiter':3000})\n",
    "    \n",
    "    # 准确率\n",
    "    accuracy = 100.0*sum(predict(res2.x, XX) == Y.ravel())/Y.size    \n",
    "\n",
    "    # 对X,y的散列绘图\n",
    "    plotData(data2, 'Microchip Test 1', 'Microchip Test 2', 'y = 1', 'y = 0', axes.flatten()[i])\n",
    "    \n",
    "    # 画出决策边界\n",
    "    x1_min, x1_max = X[:,0].min(), X[:,0].max(),\n",
    "    x2_min, x2_max = X[:,1].min(), X[:,1].max(),\n",
    "    xx1, xx2 = np.meshgrid(np.linspace(x1_min, x1_max), np.linspace(x2_min, x2_max))\n",
    "    h = sigmoid(poly.fit_transform(np.c_[xx1.ravel(), xx2.ravel()]).dot(res2.x))\n",
    "    h = h.reshape(xx1.shape)\n",
    "    axes.flatten()[i].contour(xx1, xx2, h, [0.5], linewidths=1, colors='g');       \n",
    "    axes.flatten()[i].set_title('Train accuracy {}% with Lambda = {}'.format(np.round(accuracy, decimals=2), C))"
   ]
  },
  {
   "cell_type": "code",
   "execution_count": null,
   "metadata": {
    "collapsed": true
   },
   "outputs": [],
   "source": []
  }
 ],
 "metadata": {
  "kernelspec": {
   "display_name": "Python 2",
   "language": "python",
   "name": "python2"
  },
  "language_info": {
   "codemirror_mode": {
    "name": "ipython",
    "version": 2
   },
   "file_extension": ".py",
   "mimetype": "text/x-python",
   "name": "python",
   "nbconvert_exporter": "python",
   "pygments_lexer": "ipython2",
   "version": "2.7.11"
  }
 },
 "nbformat": 4,
 "nbformat_minor": 0
}
