{
 "cells": [
  {
   "cell_type": "markdown",
   "metadata": {},
   "source": [
    "1. 去中心化 X：N*M N为维数 ，M为观测值个数\n",
    "2. 计算协方差矩阵 np.cov()\n",
    "3. 计算协方差矩阵的特征值和特征向量:np.eig()\n",
    "4. 对特征值进行排序 argsort() 返回从小到大排序下标，\n"
   ]
  },
  {
   "cell_type": "code",
   "execution_count": 32,
   "metadata": {
    "collapsed": false
   },
   "outputs": [
    {
     "name": "stdout",
     "output_type": "stream",
     "text": [
      "[[ 1.5  1. ]\n",
      " [ 1.   1.5]]\n"
     ]
    }
   ],
   "source": [
    "import scipy as sp\n",
    "import numpy as np\n",
    "# 两个维度，五个观测值\n",
    "x = np.mat([[-1,-1,0,2,0],[-2,0,0,1,1]])\n",
    "covX = np.cov(x)\n",
    "print covX\n"
   ]
  },
  {
   "cell_type": "code",
   "execution_count": 21,
   "metadata": {
    "collapsed": false
   },
   "outputs": [
    {
     "name": "stdout",
     "output_type": "stream",
     "text": [
      "[ 2.5  0.5]\n",
      "[[ 0.70710678 -0.70710678]\n",
      " [ 0.70710678  0.70710678]]\n"
     ]
    }
   ],
   "source": [
    "eigVals,eigVects = np.linalg.eig(np.mat(covX))\n",
    "print eigVals\n",
    "print eigVects"
   ]
  },
  {
   "cell_type": "markdown",
   "metadata": {},
   "source": [
    " eigVects:标准化的特征向量，每一列为一个特征向量\n",
    " \n",
    "[ 2.5  0.5]\n",
    "\n",
    "[[ 0.70710678 -0.70710678]\n",
    "\n",
    " [ 0.70710678  0.70710678]]"
   ]
  },
  {
   "cell_type": "code",
   "execution_count": 47,
   "metadata": {
    "collapsed": false
   },
   "outputs": [
    {
     "name": "stdout",
     "output_type": "stream",
     "text": [
      "[0, 1]\n",
      "[[ 0.70710678]\n",
      " [ 0.70710678]]\n",
      "[[-2.12132034 -0.70710678  0.          2.12132034  0.70710678]]\n",
      "[[-1 -1  0  2  0]\n",
      " [-2  0  0  1  1]]\n",
      "[[-1.5 -0.5  0.   1.5  0.5]\n",
      " [-1.5 -0.5  0.   1.5  0.5]]\n"
     ]
    }
   ],
   "source": [
    "eigindex = sorted(np.argsort(eigVals))\n",
    "#  sorted 从大到小排列，reverse = True 从小到大排列\n",
    "print eigindex\n",
    "#  根据eigindex 得到从0 到 K 的特征向量，组成矩阵\n",
    "redEigVects  = eigVects[:,eigindex[0:1]]\n",
    "print redEigVects\n",
    "\n",
    "#  将维处理\n",
    "Y = redEigVects.T * x\n",
    "print Y\n",
    "\n",
    "#  还原\n",
    "x_new = redEigVects.T.I * Y\n",
    "print x\n",
    "print x_new\n"
   ]
  },
  {
   "cell_type": "code",
   "execution_count": null,
   "metadata": {
    "collapsed": true
   },
   "outputs": [],
   "source": []
  }
 ],
 "metadata": {
  "kernelspec": {
   "display_name": "Python 2",
   "language": "python",
   "name": "python2"
  },
  "language_info": {
   "codemirror_mode": {
    "name": "ipython",
    "version": 2
   },
   "file_extension": ".py",
   "mimetype": "text/x-python",
   "name": "python",
   "nbconvert_exporter": "python",
   "pygments_lexer": "ipython2",
   "version": "2.7.11"
  }
 },
 "nbformat": 4,
 "nbformat_minor": 0
}
